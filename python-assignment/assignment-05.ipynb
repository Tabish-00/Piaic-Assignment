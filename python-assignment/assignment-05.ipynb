{
 "cells": [
  {
   "cell_type": "markdown",
   "metadata": {},
   "source": [
    "# Python Programming Assignment 05"
   ]
  },
  {
   "cell_type": "code",
   "execution_count": 1,
   "metadata": {},
   "outputs": [
    {
     "name": "stdout",
     "output_type": "stream",
     "text": [
      "Welcome to the High-Low Game!\n",
      "--------------------------------\n",
      "Round 1\n",
      "Your number is 94\n",
      "Invalid input. Please enter either 'higher' or 'lower'.\n",
      "Aww, that's incorrect. The computer's number was 90\n",
      "Your score is now 0\n",
      "\n",
      "Round 2\n",
      "Your number is 48\n",
      "Aww, that's incorrect. The computer's number was 24\n",
      "Your score is now 0\n",
      "\n",
      "Round 3\n",
      "Your number is 26\n",
      "Invalid input. Please enter either 'higher' or 'lower'.\n",
      "You were right! The computer's number was 25\n",
      "Your score is now 1\n",
      "\n",
      "Round 4\n",
      "Your number is 55\n"
     ]
    }
   ],
   "source": [
    "import random\n",
    "\n",
    "# Constants\n",
    "NUM_ROUNDS = 5\n",
    "\n",
    "def high_low_game():\n",
    "    print(\"Welcome to the High-Low Game!\")\n",
    "    print(\"--------------------------------\")\n",
    "    \n",
    "    score = 0\n",
    "    \n",
    "    for round_num in range(1, NUM_ROUNDS + 1):\n",
    "        print(f\"Round {round_num}\")\n",
    "        \n",
    "        # Generate random numbers for the player and the computer\n",
    "        player_number = random.randint(1, 100)\n",
    "        computer_number = random.randint(1, 100)\n",
    "        \n",
    "        # Show the player's number\n",
    "        print(f\"Your number is {player_number}\")\n",
    "        \n",
    "        # Get user's guess\n",
    "        while True:\n",
    "            guess = input(\"Do you think your number is higher or lower than the computer's? (Enter 'higher' or 'lower'): \").strip().lower()\n",
    "            if guess in ['higher', 'lower']:\n",
    "                break\n",
    "            else:\n",
    "                print(\"Invalid input. Please enter either 'higher' or 'lower'.\")\n",
    "        \n",
    "        # Determine if the player's guess is correct\n",
    "        if (guess == 'higher' and player_number > computer_number) or (guess == 'lower' and player_number < computer_number):\n",
    "            print(f\"You were right! The computer's number was {computer_number}\")\n",
    "            score += 1\n",
    "        else:\n",
    "            print(f\"Aww, that's incorrect. The computer's number was {computer_number}\")\n",
    "        \n",
    "        # Show the current score\n",
    "        print(f\"Your score is now {score}\\n\")\n",
    "    \n",
    "    # Conditional ending messages\n",
    "    if score == NUM_ROUNDS:\n",
    "        print(\"Wow! You played perfectly!\")\n",
    "    elif score >= NUM_ROUNDS // 2:\n",
    "        print(\"Good job, you played really well!\")\n",
    "    else:\n",
    "        print(\"Better luck next time!\")\n",
    "    print(\"Thanks for playing!\")\n",
    "\n",
    "# Start the game\n",
    "high_low_game()\n"
   ]
  }
 ],
 "metadata": {
  "kernelspec": {
   "display_name": "Python 3",
   "language": "python",
   "name": "python3"
  },
  "language_info": {
   "codemirror_mode": {
    "name": "ipython",
    "version": 3
   },
   "file_extension": ".py",
   "mimetype": "text/x-python",
   "name": "python",
   "nbconvert_exporter": "python",
   "pygments_lexer": "ipython3",
   "version": "3.12.0"
  }
 },
 "nbformat": 4,
 "nbformat_minor": 2
}
