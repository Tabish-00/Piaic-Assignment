{
 "cells": [
  {
   "cell_type": "markdown",
   "metadata": {},
   "source": [
    "# Assignment 06"
   ]
  },
  {
   "cell_type": "code",
   "execution_count": 1,
   "metadata": {},
   "outputs": [
    {
     "name": "stdout",
     "output_type": "stream",
     "text": [
      "This name is already in the list.\n",
      "This name is already in the list.\n",
      "This name is already in the list.\n",
      "This name is already in the list.\n",
      "This name is already in the list.\n",
      "This name is already in the list.\n"
     ]
    }
   ],
   "source": [
    "def manage_student_database():\n",
    "    students = []\n",
    "    student_id = 1\n",
    "\n",
    "    while True:\n",
    "        # Get user input\n",
    "        name = input(\"Please enter the student's name (or type 'stop' to finish): \").strip()\n",
    "\n",
    "        # Check if the user wants to stop\n",
    "        if name.lower() == \"stop\":\n",
    "            break\n",
    "\n",
    "        # Check for duplicate names\n",
    "        if any(student[1] == name for student in students):\n",
    "            print(\"This name is already in the list.\")\n",
    "        else:\n",
    "            # Add student tuple to the list\n",
    "            students.append((student_id, name))\n",
    "            student_id += 1\n",
    "\n",
    "    # Display the complete list of students (tuples)\n",
    "    print(\"\\nComplete List of Students (Tuples):\")\n",
    "    print(students)\n",
    "\n",
    "    # Display the list of students with their IDs\n",
    "    print(\"\\nList of Students with IDs:\")\n",
    "    for student in students:\n",
    "        print(f\"ID: {student[0]}, Name: {student[1]}\")\n",
    "\n",
    "    # Calculate and display the total number of students\n",
    "    total_students = len(students)\n",
    "    print(f\"\\nTotal number of students: {total_students}\")\n",
    "\n",
    "    # Calculate and display the total length of all student names combined\n",
    "    total_name_length = sum(len(student[1]) for student in students)\n",
    "    print(f\"Total length of all student names combined: {total_name_length}\")\n",
    "\n",
    "    # Find the student with the longest and shortest name\n",
    "    if students:\n",
    "        longest_name_student = max(students, key=lambda s: len(s[1]))[1]\n",
    "        shortest_name_student = min(students, key=lambda s: len(s[1]))[1]\n",
    "        print(f\"The student with the longest name is: {longest_name_student}\")\n",
    "        print(f\"The student with the shortest name is: {shortest_name_student}\")\n",
    "    else:\n",
    "        print(\"No students were added.\")\n",
    "\n",
    "# Call the function to run the program\n",
    "manage_student_database()\n"
   ]
  }
 ],
 "metadata": {
  "kernelspec": {
   "display_name": "Python 3",
   "language": "python",
   "name": "python3"
  },
  "language_info": {
   "codemirror_mode": {
    "name": "ipython",
    "version": 3
   },
   "file_extension": ".py",
   "mimetype": "text/x-python",
   "name": "python",
   "nbconvert_exporter": "python",
   "pygments_lexer": "ipython3",
   "version": "3.12.0"
  }
 },
 "nbformat": 4,
 "nbformat_minor": 2
}
